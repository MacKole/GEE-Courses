{
 "cells": [
  {
   "cell_type": "markdown",
   "id": "a5b14bd6-6433-4b9d-89b2-feabcc4e7d9f",
   "metadata": {},
   "source": [
    "# Create maps"
   ]
  },
  {
   "cell_type": "code",
   "execution_count": null,
   "id": "0fd46c93-c507-4c5b-aadc-a3dc1763441e",
   "metadata": {},
   "outputs": [],
   "source": [
    "import geemap"
   ]
  },
  {
   "cell_type": "code",
   "execution_count": null,
   "id": "5f59265c-f265-476c-9782-ade6d7a8c793",
   "metadata": {},
   "outputs": [],
   "source": [
    "Map = geemap.Map(center=[40, -100], zoom=4, height=600)\n",
    "Map"
   ]
  },
  {
   "cell_type": "code",
   "execution_count": null,
   "id": "16bebba1-6e49-465a-bf68-977478d0662a",
   "metadata": {},
   "outputs": [],
   "source": [
    "import geemap.foliumap as geemap"
   ]
  },
  {
   "cell_type": "code",
   "execution_count": null,
   "id": "68123cc0-9e56-4919-b616-8c39755b773b",
   "metadata": {},
   "outputs": [],
   "source": [
    "Map = geemap.Map(height=400)\n",
    "Map"
   ]
  }
 ],
 "metadata": {
  "kernelspec": {
   "display_name": "Python 3",
   "language": "python",
   "name": "python3"
  },
  "language_info": {
   "codemirror_mode": {
    "name": "ipython",
    "version": 3
   },
   "file_extension": ".py",
   "mimetype": "text/x-python",
   "name": "python",
   "nbconvert_exporter": "python",
   "pygments_lexer": "ipython3",
   "version": "3.9.10"
  }
 },
 "nbformat": 4,
 "nbformat_minor": 5
}
